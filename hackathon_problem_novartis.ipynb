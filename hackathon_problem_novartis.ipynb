{
 "cells": [
  {
   "cell_type": "markdown",
   "metadata": {},
   "source": [
    "## importing libraries"
   ]
  },
  {
   "cell_type": "code",
   "execution_count": 268,
   "metadata": {},
   "outputs": [],
   "source": [
    "import pandas as pd\n",
    "import numpy as np"
   ]
  },
  {
   "cell_type": "markdown",
   "metadata": {},
   "source": [
    "## reading the data"
   ]
  },
  {
   "cell_type": "code",
   "execution_count": 326,
   "metadata": {},
   "outputs": [],
   "source": [
    "data = pd.read_csv(\"C:/Users/jahnavi/Desktop/python/novartis/Train.csv\")  "
   ]
  },
  {
   "cell_type": "code",
   "execution_count": 327,
   "metadata": {},
   "outputs": [
    {
     "data": {
      "text/html": [
       "<div>\n",
       "<style scoped>\n",
       "    .dataframe tbody tr th:only-of-type {\n",
       "        vertical-align: middle;\n",
       "    }\n",
       "\n",
       "    .dataframe tbody tr th {\n",
       "        vertical-align: top;\n",
       "    }\n",
       "\n",
       "    .dataframe thead th {\n",
       "        text-align: right;\n",
       "    }\n",
       "</style>\n",
       "<table border=\"1\" class=\"dataframe\">\n",
       "  <thead>\n",
       "    <tr style=\"text-align: right;\">\n",
       "      <th></th>\n",
       "      <th>INCIDENT_ID</th>\n",
       "      <th>DATE</th>\n",
       "      <th>X_1</th>\n",
       "      <th>X_2</th>\n",
       "      <th>X_3</th>\n",
       "      <th>X_4</th>\n",
       "      <th>X_5</th>\n",
       "      <th>X_6</th>\n",
       "      <th>X_7</th>\n",
       "      <th>X_8</th>\n",
       "      <th>X_9</th>\n",
       "      <th>X_10</th>\n",
       "      <th>X_11</th>\n",
       "      <th>X_12</th>\n",
       "      <th>X_13</th>\n",
       "      <th>X_14</th>\n",
       "      <th>X_15</th>\n",
       "      <th>MULTIPLE_OFFENSE</th>\n",
       "    </tr>\n",
       "  </thead>\n",
       "  <tbody>\n",
       "    <tr>\n",
       "      <th>0</th>\n",
       "      <td>CR_102659</td>\n",
       "      <td>04-JUL-04</td>\n",
       "      <td>0</td>\n",
       "      <td>36</td>\n",
       "      <td>34</td>\n",
       "      <td>2</td>\n",
       "      <td>1</td>\n",
       "      <td>5</td>\n",
       "      <td>6</td>\n",
       "      <td>1</td>\n",
       "      <td>6</td>\n",
       "      <td>1</td>\n",
       "      <td>174</td>\n",
       "      <td>1.0</td>\n",
       "      <td>92</td>\n",
       "      <td>29</td>\n",
       "      <td>36</td>\n",
       "      <td>0</td>\n",
       "    </tr>\n",
       "    <tr>\n",
       "      <th>1</th>\n",
       "      <td>CR_189752</td>\n",
       "      <td>18-JUL-17</td>\n",
       "      <td>1</td>\n",
       "      <td>37</td>\n",
       "      <td>37</td>\n",
       "      <td>0</td>\n",
       "      <td>0</td>\n",
       "      <td>11</td>\n",
       "      <td>17</td>\n",
       "      <td>1</td>\n",
       "      <td>6</td>\n",
       "      <td>1</td>\n",
       "      <td>236</td>\n",
       "      <td>1.0</td>\n",
       "      <td>103</td>\n",
       "      <td>142</td>\n",
       "      <td>34</td>\n",
       "      <td>1</td>\n",
       "    </tr>\n",
       "    <tr>\n",
       "      <th>2</th>\n",
       "      <td>CR_184637</td>\n",
       "      <td>15-MAR-17</td>\n",
       "      <td>0</td>\n",
       "      <td>3</td>\n",
       "      <td>2</td>\n",
       "      <td>3</td>\n",
       "      <td>5</td>\n",
       "      <td>1</td>\n",
       "      <td>0</td>\n",
       "      <td>2</td>\n",
       "      <td>3</td>\n",
       "      <td>1</td>\n",
       "      <td>174</td>\n",
       "      <td>1.0</td>\n",
       "      <td>110</td>\n",
       "      <td>93</td>\n",
       "      <td>34</td>\n",
       "      <td>1</td>\n",
       "    </tr>\n",
       "    <tr>\n",
       "      <th>3</th>\n",
       "      <td>CR_139071</td>\n",
       "      <td>13-FEB-09</td>\n",
       "      <td>0</td>\n",
       "      <td>33</td>\n",
       "      <td>32</td>\n",
       "      <td>2</td>\n",
       "      <td>1</td>\n",
       "      <td>7</td>\n",
       "      <td>1</td>\n",
       "      <td>1</td>\n",
       "      <td>6</td>\n",
       "      <td>1</td>\n",
       "      <td>249</td>\n",
       "      <td>1.0</td>\n",
       "      <td>72</td>\n",
       "      <td>29</td>\n",
       "      <td>34</td>\n",
       "      <td>1</td>\n",
       "    </tr>\n",
       "    <tr>\n",
       "      <th>4</th>\n",
       "      <td>CR_109335</td>\n",
       "      <td>13-APR-05</td>\n",
       "      <td>0</td>\n",
       "      <td>33</td>\n",
       "      <td>32</td>\n",
       "      <td>2</td>\n",
       "      <td>1</td>\n",
       "      <td>8</td>\n",
       "      <td>3</td>\n",
       "      <td>0</td>\n",
       "      <td>5</td>\n",
       "      <td>1</td>\n",
       "      <td>174</td>\n",
       "      <td>0.0</td>\n",
       "      <td>112</td>\n",
       "      <td>29</td>\n",
       "      <td>43</td>\n",
       "      <td>1</td>\n",
       "    </tr>\n",
       "  </tbody>\n",
       "</table>\n",
       "</div>"
      ],
      "text/plain": [
       "  INCIDENT_ID       DATE  X_1  X_2  X_3  X_4  X_5  X_6  X_7  X_8  X_9  X_10  \\\n",
       "0   CR_102659  04-JUL-04    0   36   34    2    1    5    6    1    6     1   \n",
       "1   CR_189752  18-JUL-17    1   37   37    0    0   11   17    1    6     1   \n",
       "2   CR_184637  15-MAR-17    0    3    2    3    5    1    0    2    3     1   \n",
       "3   CR_139071  13-FEB-09    0   33   32    2    1    7    1    1    6     1   \n",
       "4   CR_109335  13-APR-05    0   33   32    2    1    8    3    0    5     1   \n",
       "\n",
       "   X_11  X_12  X_13  X_14  X_15  MULTIPLE_OFFENSE  \n",
       "0   174   1.0    92    29    36                 0  \n",
       "1   236   1.0   103   142    34                 1  \n",
       "2   174   1.0   110    93    34                 1  \n",
       "3   249   1.0    72    29    34                 1  \n",
       "4   174   0.0   112    29    43                 1  "
      ]
     },
     "execution_count": 327,
     "metadata": {},
     "output_type": "execute_result"
    }
   ],
   "source": [
    "data.head(5)"
   ]
  },
  {
   "cell_type": "code",
   "execution_count": 328,
   "metadata": {},
   "outputs": [
    {
     "data": {
      "text/plain": [
       "(23856, 18)"
      ]
     },
     "execution_count": 328,
     "metadata": {},
     "output_type": "execute_result"
    }
   ],
   "source": [
    "data.shape"
   ]
  },
  {
   "cell_type": "markdown",
   "metadata": {},
   "source": [
    "## checking null values"
   ]
  },
  {
   "cell_type": "code",
   "execution_count": 329,
   "metadata": {},
   "outputs": [
    {
     "data": {
      "text/plain": [
       "INCIDENT_ID           0\n",
       "DATE                  0\n",
       "X_1                   0\n",
       "X_2                   0\n",
       "X_3                   0\n",
       "X_4                   0\n",
       "X_5                   0\n",
       "X_6                   0\n",
       "X_7                   0\n",
       "X_8                   0\n",
       "X_9                   0\n",
       "X_10                  0\n",
       "X_11                  0\n",
       "X_12                182\n",
       "X_13                  0\n",
       "X_14                  0\n",
       "X_15                  0\n",
       "MULTIPLE_OFFENSE      0\n",
       "dtype: int64"
      ]
     },
     "execution_count": 329,
     "metadata": {},
     "output_type": "execute_result"
    }
   ],
   "source": [
    "data.isnull().sum()"
   ]
  },
  {
   "cell_type": "code",
   "execution_count": 330,
   "metadata": {},
   "outputs": [
    {
     "name": "stdout",
     "output_type": "stream",
     "text": [
      "<class 'pandas.core.frame.DataFrame'>\n",
      "RangeIndex: 23856 entries, 0 to 23855\n",
      "Data columns (total 18 columns):\n",
      "INCIDENT_ID         23856 non-null object\n",
      "DATE                23856 non-null object\n",
      "X_1                 23856 non-null int64\n",
      "X_2                 23856 non-null int64\n",
      "X_3                 23856 non-null int64\n",
      "X_4                 23856 non-null int64\n",
      "X_5                 23856 non-null int64\n",
      "X_6                 23856 non-null int64\n",
      "X_7                 23856 non-null int64\n",
      "X_8                 23856 non-null int64\n",
      "X_9                 23856 non-null int64\n",
      "X_10                23856 non-null int64\n",
      "X_11                23856 non-null int64\n",
      "X_12                23674 non-null float64\n",
      "X_13                23856 non-null int64\n",
      "X_14                23856 non-null int64\n",
      "X_15                23856 non-null int64\n",
      "MULTIPLE_OFFENSE    23856 non-null int64\n",
      "dtypes: float64(1), int64(15), object(2)\n",
      "memory usage: 3.3+ MB\n"
     ]
    }
   ],
   "source": [
    "data.info()"
   ]
  },
  {
   "cell_type": "code",
   "execution_count": 331,
   "metadata": {},
   "outputs": [],
   "source": [
    "def inspect_data(data):\n",
    "    return pd.DataFrame({\"Data Type\":data.dtypes,\"No of Levels\":data.apply(lambda x: x.unique().shape[0],axis=0), \"Levels\":data.apply(lambda x: str(x.unique()),axis=0)})"
   ]
  },
  {
   "cell_type": "code",
   "execution_count": 332,
   "metadata": {},
   "outputs": [
    {
     "data": {
      "text/html": [
       "<div>\n",
       "<style scoped>\n",
       "    .dataframe tbody tr th:only-of-type {\n",
       "        vertical-align: middle;\n",
       "    }\n",
       "\n",
       "    .dataframe tbody tr th {\n",
       "        vertical-align: top;\n",
       "    }\n",
       "\n",
       "    .dataframe thead th {\n",
       "        text-align: right;\n",
       "    }\n",
       "</style>\n",
       "<table border=\"1\" class=\"dataframe\">\n",
       "  <thead>\n",
       "    <tr style=\"text-align: right;\">\n",
       "      <th></th>\n",
       "      <th>Data Type</th>\n",
       "      <th>No of Levels</th>\n",
       "      <th>Levels</th>\n",
       "    </tr>\n",
       "  </thead>\n",
       "  <tbody>\n",
       "    <tr>\n",
       "      <th>INCIDENT_ID</th>\n",
       "      <td>object</td>\n",
       "      <td>23856</td>\n",
       "      <td>['CR_102659' 'CR_189752' 'CR_184637' ... 'CR_1...</td>\n",
       "    </tr>\n",
       "    <tr>\n",
       "      <th>DATE</th>\n",
       "      <td>object</td>\n",
       "      <td>9121</td>\n",
       "      <td>['04-JUL-04' '18-JUL-17' '15-MAR-17' ... '14-S...</td>\n",
       "    </tr>\n",
       "    <tr>\n",
       "      <th>X_1</th>\n",
       "      <td>int64</td>\n",
       "      <td>8</td>\n",
       "      <td>[0 1 5 7 3 4 2 6]</td>\n",
       "    </tr>\n",
       "    <tr>\n",
       "      <th>X_2</th>\n",
       "      <td>int64</td>\n",
       "      <td>52</td>\n",
       "      <td>[36 37 3 33 45 30 8 49 4 7 25 21 47 22 15 16 1...</td>\n",
       "    </tr>\n",
       "    <tr>\n",
       "      <th>X_3</th>\n",
       "      <td>int64</td>\n",
       "      <td>52</td>\n",
       "      <td>[34 37 2 32 45 35 7 49 4 8 25 23 48 22 14 15 1...</td>\n",
       "    </tr>\n",
       "    <tr>\n",
       "      <th>X_4</th>\n",
       "      <td>int64</td>\n",
       "      <td>10</td>\n",
       "      <td>[2 0 3 10 7 6 9 4 1 5]</td>\n",
       "    </tr>\n",
       "    <tr>\n",
       "      <th>X_5</th>\n",
       "      <td>int64</td>\n",
       "      <td>5</td>\n",
       "      <td>[1 0 5 3 2]</td>\n",
       "    </tr>\n",
       "    <tr>\n",
       "      <th>X_6</th>\n",
       "      <td>int64</td>\n",
       "      <td>19</td>\n",
       "      <td>[5 11 1 7 8 9 15 2 4 13 3 16 6 18 12 17 14 10 19]</td>\n",
       "    </tr>\n",
       "    <tr>\n",
       "      <th>X_7</th>\n",
       "      <td>int64</td>\n",
       "      <td>19</td>\n",
       "      <td>[6 17 0 1 3 8 10 7 2 18 5 12 4 13 16 11 14 15 9]</td>\n",
       "    </tr>\n",
       "    <tr>\n",
       "      <th>X_8</th>\n",
       "      <td>int64</td>\n",
       "      <td>24</td>\n",
       "      <td>[1 2 0 3 4 5 7 6 12 10 8 20 11 15 9 99 14 13 3...</td>\n",
       "    </tr>\n",
       "    <tr>\n",
       "      <th>X_9</th>\n",
       "      <td>int64</td>\n",
       "      <td>7</td>\n",
       "      <td>[6 3 5 1 2 0 4]</td>\n",
       "    </tr>\n",
       "    <tr>\n",
       "      <th>X_10</th>\n",
       "      <td>int64</td>\n",
       "      <td>24</td>\n",
       "      <td>[1 2 3 4 6 12 5 11 10 90 20 8 16 30 19 7 50 9 ...</td>\n",
       "    </tr>\n",
       "    <tr>\n",
       "      <th>X_11</th>\n",
       "      <td>int64</td>\n",
       "      <td>133</td>\n",
       "      <td>[174 236 249 303 316 145 0 127 299 158 12 74 3...</td>\n",
       "    </tr>\n",
       "    <tr>\n",
       "      <th>X_12</th>\n",
       "      <td>float64</td>\n",
       "      <td>24</td>\n",
       "      <td>[1.0 0.0 3.0 2.0 6.0 12.0 4.0 nan 5.0 11.0 90....</td>\n",
       "    </tr>\n",
       "    <tr>\n",
       "      <th>X_13</th>\n",
       "      <td>int64</td>\n",
       "      <td>60</td>\n",
       "      <td>[92 103 110 72 112 42 18 2 98 67 116 111 12 34...</td>\n",
       "    </tr>\n",
       "    <tr>\n",
       "      <th>X_14</th>\n",
       "      <td>int64</td>\n",
       "      <td>62</td>\n",
       "      <td>[29 142 93 62 14 130 133 115 53 80 103 77 107 ...</td>\n",
       "    </tr>\n",
       "    <tr>\n",
       "      <th>X_15</th>\n",
       "      <td>int64</td>\n",
       "      <td>28</td>\n",
       "      <td>[36 34 43 48 46 0 23 9 50 39 24 14 21 41 8 18 ...</td>\n",
       "    </tr>\n",
       "    <tr>\n",
       "      <th>MULTIPLE_OFFENSE</th>\n",
       "      <td>int64</td>\n",
       "      <td>2</td>\n",
       "      <td>[0 1]</td>\n",
       "    </tr>\n",
       "  </tbody>\n",
       "</table>\n",
       "</div>"
      ],
      "text/plain": [
       "                 Data Type  No of Levels  \\\n",
       "INCIDENT_ID         object         23856   \n",
       "DATE                object          9121   \n",
       "X_1                  int64             8   \n",
       "X_2                  int64            52   \n",
       "X_3                  int64            52   \n",
       "X_4                  int64            10   \n",
       "X_5                  int64             5   \n",
       "X_6                  int64            19   \n",
       "X_7                  int64            19   \n",
       "X_8                  int64            24   \n",
       "X_9                  int64             7   \n",
       "X_10                 int64            24   \n",
       "X_11                 int64           133   \n",
       "X_12               float64            24   \n",
       "X_13                 int64            60   \n",
       "X_14                 int64            62   \n",
       "X_15                 int64            28   \n",
       "MULTIPLE_OFFENSE     int64             2   \n",
       "\n",
       "                                                             Levels  \n",
       "INCIDENT_ID       ['CR_102659' 'CR_189752' 'CR_184637' ... 'CR_1...  \n",
       "DATE              ['04-JUL-04' '18-JUL-17' '15-MAR-17' ... '14-S...  \n",
       "X_1                                               [0 1 5 7 3 4 2 6]  \n",
       "X_2               [36 37 3 33 45 30 8 49 4 7 25 21 47 22 15 16 1...  \n",
       "X_3               [34 37 2 32 45 35 7 49 4 8 25 23 48 22 14 15 1...  \n",
       "X_4                                          [2 0 3 10 7 6 9 4 1 5]  \n",
       "X_5                                                     [1 0 5 3 2]  \n",
       "X_6               [5 11 1 7 8 9 15 2 4 13 3 16 6 18 12 17 14 10 19]  \n",
       "X_7                [6 17 0 1 3 8 10 7 2 18 5 12 4 13 16 11 14 15 9]  \n",
       "X_8               [1 2 0 3 4 5 7 6 12 10 8 20 11 15 9 99 14 13 3...  \n",
       "X_9                                                 [6 3 5 1 2 0 4]  \n",
       "X_10              [1 2 3 4 6 12 5 11 10 90 20 8 16 30 19 7 50 9 ...  \n",
       "X_11              [174 236 249 303 316 145 0 127 299 158 12 74 3...  \n",
       "X_12              [1.0 0.0 3.0 2.0 6.0 12.0 4.0 nan 5.0 11.0 90....  \n",
       "X_13              [92 103 110 72 112 42 18 2 98 67 116 111 12 34...  \n",
       "X_14              [29 142 93 62 14 130 133 115 53 80 103 77 107 ...  \n",
       "X_15              [36 34 43 48 46 0 23 9 50 39 24 14 21 41 8 18 ...  \n",
       "MULTIPLE_OFFENSE                                              [0 1]  "
      ]
     },
     "execution_count": 332,
     "metadata": {},
     "output_type": "execute_result"
    }
   ],
   "source": [
    "inspect_data(data)"
   ]
  },
  {
   "cell_type": "markdown",
   "metadata": {},
   "source": [
    "#### As INCIDENT_ID','DATE  are not usefull for the analysis i am droping these columns"
   ]
  },
  {
   "cell_type": "code",
   "execution_count": 333,
   "metadata": {},
   "outputs": [],
   "source": [
    "data.drop(['INCIDENT_ID','DATE'], axis=1, inplace=True)"
   ]
  },
  {
   "cell_type": "code",
   "execution_count": 334,
   "metadata": {},
   "outputs": [
    {
     "data": {
      "text/plain": [
       "(23856, 16)"
      ]
     },
     "execution_count": 334,
     "metadata": {},
     "output_type": "execute_result"
    }
   ],
   "source": [
    "data.shape"
   ]
  },
  {
   "cell_type": "markdown",
   "metadata": {},
   "source": [
    "### The column X_12 is having the null values.I am replacing the null values with the median value "
   ]
  },
  {
   "cell_type": "code",
   "execution_count": 335,
   "metadata": {},
   "outputs": [],
   "source": [
    "data['X_12'].fillna(data['X_12'].median(), inplace=True)"
   ]
  },
  {
   "cell_type": "code",
   "execution_count": 336,
   "metadata": {},
   "outputs": [
    {
     "data": {
      "text/plain": [
       "X_1                 0\n",
       "X_2                 0\n",
       "X_3                 0\n",
       "X_4                 0\n",
       "X_5                 0\n",
       "X_6                 0\n",
       "X_7                 0\n",
       "X_8                 0\n",
       "X_9                 0\n",
       "X_10                0\n",
       "X_11                0\n",
       "X_12                0\n",
       "X_13                0\n",
       "X_14                0\n",
       "X_15                0\n",
       "MULTIPLE_OFFENSE    0\n",
       "dtype: int64"
      ]
     },
     "execution_count": 336,
     "metadata": {},
     "output_type": "execute_result"
    }
   ],
   "source": [
    "data.isnull().sum()"
   ]
  },
  {
   "cell_type": "code",
   "execution_count": 337,
   "metadata": {},
   "outputs": [
    {
     "data": {
      "text/plain": [
       "Index(['X_1', 'X_2', 'X_3', 'X_4', 'X_5', 'X_6', 'X_7', 'X_8', 'X_9', 'X_10',\n",
       "       'X_11', 'X_12', 'X_13', 'X_14', 'X_15', 'MULTIPLE_OFFENSE'],\n",
       "      dtype='object')"
      ]
     },
     "execution_count": 337,
     "metadata": {},
     "output_type": "execute_result"
    }
   ],
   "source": [
    "data.columns"
   ]
  },
  {
   "cell_type": "markdown",
   "metadata": {},
   "source": [
    "### identifing the independent and dependent variables"
   ]
  },
  {
   "cell_type": "code",
   "execution_count": 343,
   "metadata": {},
   "outputs": [
    {
     "name": "stdout",
     "output_type": "stream",
     "text": [
      "(23856,)\n",
      "(23856, 15)\n"
     ]
    }
   ],
   "source": [
    "y = data['MULTIPLE_OFFENSE']\n",
    "X = data[data.columns.difference(['MULTIPLE_OFFENSE'])]\n",
    "print(y.shape)\n",
    "print(X.shape)"
   ]
  },
  {
   "cell_type": "markdown",
   "metadata": {},
   "source": [
    "### spliting the data into train and validation"
   ]
  },
  {
   "cell_type": "code",
   "execution_count": 344,
   "metadata": {},
   "outputs": [
    {
     "name": "stdout",
     "output_type": "stream",
     "text": [
      "(16699, 15)\n",
      "(7157, 15)\n"
     ]
    }
   ],
   "source": [
    "from sklearn.model_selection import train_test_split\n",
    "X_train, X_valid, y_train, y_valid = train_test_split(X, y, test_size=0.3, random_state=421)\n",
    "\n",
    "print(X_train.shape)\n",
    "print(X_valid.shape)"
   ]
  },
  {
   "cell_type": "markdown",
   "metadata": {},
   "source": [
    "### buliding model by using randomforest"
   ]
  },
  {
   "cell_type": "code",
   "execution_count": 283,
   "metadata": {},
   "outputs": [
    {
     "name": "stdout",
     "output_type": "stream",
     "text": [
      "1.0\n",
      "0.9917563224814867\n"
     ]
    }
   ],
   "source": [
    "from sklearn.ensemble import RandomForestClassifier\n",
    "rfc = RandomForestClassifier()\n",
    "rfc.fit(X_train,y_train)\n",
    "print(rfc.score(X_train, y_train))\n",
    "print(rfc.score(X_valid, y_valid))"
   ]
  },
  {
   "cell_type": "code",
   "execution_count": 284,
   "metadata": {},
   "outputs": [
    {
     "name": "stdout",
     "output_type": "stream",
     "text": [
      "[[ 281   11]\n",
      " [  48 6817]]\n"
     ]
    }
   ],
   "source": [
    "from sklearn.metrics import confusion_matrix\n",
    "y_pred = rfc.predict(X_valid)\n",
    "confusion_matrix = confusion_matrix(y_pred, y_valid)\n",
    "print(confusion_matrix)"
   ]
  },
  {
   "cell_type": "code",
   "execution_count": 285,
   "metadata": {},
   "outputs": [
    {
     "name": "stdout",
     "output_type": "stream",
     "text": [
      "              precision    recall  f1-score   support\n",
      "\n",
      "           0       0.96      0.85      0.90       329\n",
      "           1       0.99      1.00      1.00      6828\n",
      "\n",
      "    accuracy                           0.99      7157\n",
      "   macro avg       0.98      0.93      0.95      7157\n",
      "weighted avg       0.99      0.99      0.99      7157\n",
      "\n"
     ]
    }
   ],
   "source": [
    "from sklearn.metrics import classification_report\n",
    "print(classification_report(y_valid, y_pred))"
   ]
  },
  {
   "cell_type": "code",
   "execution_count": 364,
   "metadata": {},
   "outputs": [],
   "source": [
    "from sklearn.ensemble import RandomForestClassifier\n",
    "rfc = RandomForestClassifier()\n"
   ]
  },
  {
   "cell_type": "code",
   "execution_count": 373,
   "metadata": {},
   "outputs": [],
   "source": [
    "from sklearn.model_selection import RandomizedSearchCV, GridSearchCV\n",
    "rfc = RandomForestClassifier()\n",
    "param_grid = { \n",
    "    'n_estimators': [200, 500],\n",
    "    'max_features': ['auto', 'sqrt', 'log2'],\n",
    "    'max_depth' : [4,5,6,7,8],\n",
    "    'criterion' :['gini', 'entropy']\n",
    "}\n",
    "grid_search = GridSearchCV(estimator=rfc,param_grid=param_grid,cv=5)\n"
   ]
  },
  {
   "cell_type": "code",
   "execution_count": 374,
   "metadata": {},
   "outputs": [
    {
     "data": {
      "text/plain": [
       "GridSearchCV(cv=5, error_score=nan,\n",
       "             estimator=RandomForestClassifier(bootstrap=True, ccp_alpha=0.0,\n",
       "                                              class_weight=None,\n",
       "                                              criterion='gini', max_depth=None,\n",
       "                                              max_features='auto',\n",
       "                                              max_leaf_nodes=None,\n",
       "                                              max_samples=None,\n",
       "                                              min_impurity_decrease=0.0,\n",
       "                                              min_impurity_split=None,\n",
       "                                              min_samples_leaf=1,\n",
       "                                              min_samples_split=2,\n",
       "                                              min_weight_fraction_leaf=0.0,\n",
       "                                              n_estimators=100, n_jobs=None,\n",
       "                                              oob_score=False,\n",
       "                                              random_state=None, verbose=0,\n",
       "                                              warm_start=False),\n",
       "             iid='deprecated', n_jobs=None,\n",
       "             param_grid={'criterion': ['gini', 'entropy'],\n",
       "                         'max_depth': [4, 5, 6, 7, 8],\n",
       "                         'max_features': ['auto', 'sqrt', 'log2'],\n",
       "                         'n_estimators': [200, 500]},\n",
       "             pre_dispatch='2*n_jobs', refit=True, return_train_score=False,\n",
       "             scoring=None, verbose=0)"
      ]
     },
     "execution_count": 374,
     "metadata": {},
     "output_type": "execute_result"
    }
   ],
   "source": [
    "grid_search.fit(X_train, y_train)"
   ]
  },
  {
   "cell_type": "code",
   "execution_count": 375,
   "metadata": {},
   "outputs": [
    {
     "name": "stdout",
     "output_type": "stream",
     "text": [
      "0.985508013622351\n"
     ]
    }
   ],
   "source": [
    "print(grid_search.best_score_)"
   ]
  },
  {
   "cell_type": "code",
   "execution_count": 376,
   "metadata": {},
   "outputs": [
    {
     "name": "stdout",
     "output_type": "stream",
     "text": [
      "RandomForestClassifier(bootstrap=True, ccp_alpha=0.0, class_weight=None,\n",
      "                       criterion='gini', max_depth=8, max_features='log2',\n",
      "                       max_leaf_nodes=None, max_samples=None,\n",
      "                       min_impurity_decrease=0.0, min_impurity_split=None,\n",
      "                       min_samples_leaf=1, min_samples_split=2,\n",
      "                       min_weight_fraction_leaf=0.0, n_estimators=500,\n",
      "                       n_jobs=None, oob_score=False, random_state=None,\n",
      "                       verbose=0, warm_start=False)\n"
     ]
    }
   ],
   "source": [
    "print(grid_search.best_estimator_)"
   ]
  },
  {
   "cell_type": "code",
   "execution_count": 377,
   "metadata": {},
   "outputs": [
    {
     "data": {
      "text/plain": [
       "{'criterion': 'gini',\n",
       " 'max_depth': 8,\n",
       " 'max_features': 'log2',\n",
       " 'n_estimators': 500}"
      ]
     },
     "execution_count": 377,
     "metadata": {},
     "output_type": "execute_result"
    }
   ],
   "source": [
    "grid_search.best_params_"
   ]
  },
  {
   "cell_type": "code",
   "execution_count": 379,
   "metadata": {},
   "outputs": [
    {
     "data": {
      "text/plain": [
       "RandomForestClassifier(bootstrap=True, ccp_alpha=0.0, class_weight=None,\n",
       "                       criterion='gini', max_depth=8, max_features='log2',\n",
       "                       max_leaf_nodes=None, max_samples=None,\n",
       "                       min_impurity_decrease=0.0, min_impurity_split=None,\n",
       "                       min_samples_leaf=1, min_samples_split=2,\n",
       "                       min_weight_fraction_leaf=0.0, n_estimators=200,\n",
       "                       n_jobs=None, oob_score=False, random_state=42, verbose=0,\n",
       "                       warm_start=False)"
      ]
     },
     "execution_count": 379,
     "metadata": {},
     "output_type": "execute_result"
    }
   ],
   "source": [
    "rfc1=RandomForestClassifier(random_state=42, max_features='log2', n_estimators= 200, max_depth=8, criterion='gini')\n",
    "rfc1.fit(X_train, y_train)"
   ]
  },
  {
   "cell_type": "code",
   "execution_count": 380,
   "metadata": {},
   "outputs": [],
   "source": [
    "y_pred = rfc1.predict(X_valid)"
   ]
  },
  {
   "cell_type": "code",
   "execution_count": 382,
   "metadata": {},
   "outputs": [
    {
     "name": "stdout",
     "output_type": "stream",
     "text": [
      "0.9909575423678064\n",
      "0.9857482185273159\n"
     ]
    }
   ],
   "source": [
    "print(rfc1.score(X_train, y_train))\n",
    "print(rfc1.score(X_valid, y_valid))"
   ]
  },
  {
   "cell_type": "code",
   "execution_count": 381,
   "metadata": {},
   "outputs": [
    {
     "name": "stdout",
     "output_type": "stream",
     "text": [
      "              precision    recall  f1-score   support\n",
      "\n",
      "           0       0.97      0.71      0.82       329\n",
      "           1       0.99      1.00      0.99      6828\n",
      "\n",
      "    accuracy                           0.99      7157\n",
      "   macro avg       0.98      0.86      0.91      7157\n",
      "weighted avg       0.99      0.99      0.98      7157\n",
      "\n"
     ]
    }
   ],
   "source": [
    "from sklearn.metrics import classification_report\n",
    "print(classification_report(y_valid, y_pred))"
   ]
  },
  {
   "cell_type": "markdown",
   "metadata": {},
   "source": [
    "## xgboost"
   ]
  },
  {
   "cell_type": "code",
   "execution_count": 442,
   "metadata": {},
   "outputs": [],
   "source": [
    "from sklearn.model_selection import RandomizedSearchCV, GridSearchCV\n",
    "import xgboost\n",
    "params={\n",
    "    \"learning_rate\"    : [0.05, 0.10, 0.20, 0.30, 0.40, 0.50],\n",
    "    \"max_depth\"        : [3, 5, 6, 8, 10, 12, 15],\n",
    "    \"min_child_weight\" : [1, 3, 4, 5, 8],\n",
    "    \"gamma\"            : [0.0, 0.1, 0.2, 0.4, 0.6],\n",
    "    \"colsample_bytree\" : [0.4, 0.6, 0.7, 0.8]\n",
    "}"
   ]
  },
  {
   "cell_type": "code",
   "execution_count": 443,
   "metadata": {},
   "outputs": [],
   "source": [
    "classifier=xgboost.XGBClassifier(class_weight='balanced')"
   ]
  },
  {
   "cell_type": "code",
   "execution_count": 444,
   "metadata": {},
   "outputs": [],
   "source": [
    "random_search=RandomizedSearchCV(classifier,param_distributions=params,n_iter=5,\n",
    "                                scoring='accuracy',n_jobs=-1,cv=5,verbose=3)"
   ]
  },
  {
   "cell_type": "code",
   "execution_count": 445,
   "metadata": {},
   "outputs": [
    {
     "name": "stdout",
     "output_type": "stream",
     "text": [
      "Fitting 5 folds for each of 5 candidates, totalling 25 fits\n"
     ]
    },
    {
     "name": "stderr",
     "output_type": "stream",
     "text": [
      "[Parallel(n_jobs=-1)]: Using backend LokyBackend with 4 concurrent workers.\n",
      "[Parallel(n_jobs=-1)]: Done  25 out of  25 | elapsed:   16.5s finished\n"
     ]
    },
    {
     "data": {
      "text/plain": [
       "RandomizedSearchCV(cv=5, error_score=nan,\n",
       "                   estimator=XGBClassifier(base_score=0.5, booster='gbtree',\n",
       "                                           class_weight='balanced',\n",
       "                                           colsample_bylevel=1,\n",
       "                                           colsample_bynode=1,\n",
       "                                           colsample_bytree=1, gamma=0,\n",
       "                                           learning_rate=0.1, max_delta_step=0,\n",
       "                                           max_depth=3, min_child_weight=1,\n",
       "                                           missing=None, n_estimators=100,\n",
       "                                           n_jobs=1, nthread=None,\n",
       "                                           objective='binary:logistic',\n",
       "                                           random_state=0, reg...\n",
       "                                           verbosity=1),\n",
       "                   iid='deprecated', n_iter=5, n_jobs=-1,\n",
       "                   param_distributions={'colsample_bytree': [0.4, 0.6, 0.7,\n",
       "                                                             0.8],\n",
       "                                        'gamma': [0.0, 0.1, 0.2, 0.4, 0.6],\n",
       "                                        'learning_rate': [0.05, 0.1, 0.2, 0.3,\n",
       "                                                          0.4, 0.5],\n",
       "                                        'max_depth': [3, 5, 6, 8, 10, 12, 15],\n",
       "                                        'min_child_weight': [1, 3, 4, 5, 8]},\n",
       "                   pre_dispatch='2*n_jobs', random_state=None, refit=True,\n",
       "                   return_train_score=False, scoring='accuracy', verbose=3)"
      ]
     },
     "execution_count": 445,
     "metadata": {},
     "output_type": "execute_result"
    }
   ],
   "source": [
    "random_search.fit(X_train,y_train)"
   ]
  },
  {
   "cell_type": "code",
   "execution_count": 446,
   "metadata": {},
   "outputs": [
    {
     "data": {
      "text/plain": [
       "XGBClassifier(base_score=0.5, booster='gbtree', class_weight='balanced',\n",
       "              colsample_bylevel=1, colsample_bynode=1, colsample_bytree=0.4,\n",
       "              gamma=0.1, learning_rate=0.4, max_delta_step=0, max_depth=8,\n",
       "              min_child_weight=4, missing=None, n_estimators=100, n_jobs=1,\n",
       "              nthread=None, objective='binary:logistic', random_state=0,\n",
       "              reg_alpha=0, reg_lambda=1, scale_pos_weight=1, seed=None,\n",
       "              silent=None, subsample=1, verbosity=1)"
      ]
     },
     "execution_count": 446,
     "metadata": {},
     "output_type": "execute_result"
    }
   ],
   "source": [
    "random_search.best_estimator_"
   ]
  },
  {
   "cell_type": "code",
   "execution_count": 447,
   "metadata": {},
   "outputs": [
    {
     "data": {
      "text/plain": [
       "{'min_child_weight': 4,\n",
       " 'max_depth': 8,\n",
       " 'learning_rate': 0.4,\n",
       " 'gamma': 0.1,\n",
       " 'colsample_bytree': 0.4}"
      ]
     },
     "execution_count": 447,
     "metadata": {},
     "output_type": "execute_result"
    }
   ],
   "source": [
    "random_search.best_params_"
   ]
  },
  {
   "cell_type": "code",
   "execution_count": 476,
   "metadata": {},
   "outputs": [],
   "source": [
    "classifier1=xgboost.XGBClassifier(base_score=0.5, booster='gbtree', class_weight='balanced',\n",
    "              colsample_bylevel=1, colsample_bynode=1, colsample_bytree=0.4,\n",
    "              gamma=0.1, learning_rate=0.4, max_delta_step=0, max_depth=8,\n",
    "              min_child_weight=4, missing=None, n_estimators=100, n_jobs=1,\n",
    "              nthread=None, objective='binary:logistic', random_state=0,\n",
    "              reg_alpha=0, reg_lambda=1, scale_pos_weight=1, seed=None,\n",
    "              silent=None, subsample=1)"
   ]
  },
  {
   "cell_type": "code",
   "execution_count": 477,
   "metadata": {},
   "outputs": [
    {
     "data": {
      "text/plain": [
       "XGBClassifier(base_score=0.5, booster='gbtree', class_weight='balanced',\n",
       "              colsample_bylevel=1, colsample_bynode=1, colsample_bytree=0.4,\n",
       "              gamma=0.1, learning_rate=0.4, max_delta_step=0, max_depth=8,\n",
       "              min_child_weight=4, missing=None, n_estimators=100, n_jobs=1,\n",
       "              nthread=None, objective='binary:logistic', random_state=0,\n",
       "              reg_alpha=0, reg_lambda=1, scale_pos_weight=1, seed=None,\n",
       "              silent=None, subsample=1, verbosity=1)"
      ]
     },
     "execution_count": 477,
     "metadata": {},
     "output_type": "execute_result"
    }
   ],
   "source": [
    "classifier1.fit(X_train, y_train)"
   ]
  },
  {
   "cell_type": "code",
   "execution_count": 479,
   "metadata": {},
   "outputs": [
    {
     "name": "stdout",
     "output_type": "stream",
     "text": [
      "0.9998802323492425\n",
      "0.9988822132178287\n"
     ]
    }
   ],
   "source": [
    "print(classifier1.score(X_train, y_train))\n",
    "print(classifier1.score(X_valid, y_valid))"
   ]
  },
  {
   "cell_type": "code",
   "execution_count": 480,
   "metadata": {},
   "outputs": [],
   "source": [
    "y_pred = classifier1.predict(X_valid)"
   ]
  },
  {
   "cell_type": "code",
   "execution_count": 481,
   "metadata": {},
   "outputs": [
    {
     "name": "stdout",
     "output_type": "stream",
     "text": [
      "              precision    recall  f1-score   support\n",
      "\n",
      "           0       1.00      0.98      0.99       329\n",
      "           1       1.00      1.00      1.00      6828\n",
      "\n",
      "    accuracy                           1.00      7157\n",
      "   macro avg       1.00      0.99      0.99      7157\n",
      "weighted avg       1.00      1.00      1.00      7157\n",
      "\n"
     ]
    }
   ],
   "source": [
    "from sklearn.metrics import classification_report\n",
    "print(classification_report(y_valid, y_pred))"
   ]
  },
  {
   "cell_type": "markdown",
   "metadata": {},
   "source": [
    "## loading test data"
   ]
  },
  {
   "cell_type": "code",
   "execution_count": 498,
   "metadata": {},
   "outputs": [],
   "source": [
    "test = pd.read_csv(\"C:/Users/jahnavi/Desktop/python/novartis/Test.csv\")"
   ]
  },
  {
   "cell_type": "code",
   "execution_count": 499,
   "metadata": {},
   "outputs": [
    {
     "data": {
      "text/html": [
       "<div>\n",
       "<style scoped>\n",
       "    .dataframe tbody tr th:only-of-type {\n",
       "        vertical-align: middle;\n",
       "    }\n",
       "\n",
       "    .dataframe tbody tr th {\n",
       "        vertical-align: top;\n",
       "    }\n",
       "\n",
       "    .dataframe thead th {\n",
       "        text-align: right;\n",
       "    }\n",
       "</style>\n",
       "<table border=\"1\" class=\"dataframe\">\n",
       "  <thead>\n",
       "    <tr style=\"text-align: right;\">\n",
       "      <th></th>\n",
       "      <th>INCIDENT_ID</th>\n",
       "      <th>DATE</th>\n",
       "      <th>X_1</th>\n",
       "      <th>X_2</th>\n",
       "      <th>X_3</th>\n",
       "      <th>X_4</th>\n",
       "      <th>X_5</th>\n",
       "      <th>X_6</th>\n",
       "      <th>X_7</th>\n",
       "      <th>X_8</th>\n",
       "      <th>X_9</th>\n",
       "      <th>X_10</th>\n",
       "      <th>X_11</th>\n",
       "      <th>X_12</th>\n",
       "      <th>X_13</th>\n",
       "      <th>X_14</th>\n",
       "      <th>X_15</th>\n",
       "    </tr>\n",
       "  </thead>\n",
       "  <tbody>\n",
       "    <tr>\n",
       "      <th>0</th>\n",
       "      <td>CR_195453</td>\n",
       "      <td>01-FEB-18</td>\n",
       "      <td>0</td>\n",
       "      <td>30</td>\n",
       "      <td>35</td>\n",
       "      <td>7</td>\n",
       "      <td>3</td>\n",
       "      <td>6</td>\n",
       "      <td>4</td>\n",
       "      <td>0</td>\n",
       "      <td>5</td>\n",
       "      <td>1</td>\n",
       "      <td>174</td>\n",
       "      <td>NaN</td>\n",
       "      <td>72</td>\n",
       "      <td>119</td>\n",
       "      <td>23</td>\n",
       "    </tr>\n",
       "    <tr>\n",
       "      <th>1</th>\n",
       "      <td>CR_103520</td>\n",
       "      <td>05-MAR-04</td>\n",
       "      <td>0</td>\n",
       "      <td>44</td>\n",
       "      <td>44</td>\n",
       "      <td>1</td>\n",
       "      <td>3</td>\n",
       "      <td>7</td>\n",
       "      <td>1</td>\n",
       "      <td>4</td>\n",
       "      <td>6</td>\n",
       "      <td>1</td>\n",
       "      <td>316</td>\n",
       "      <td>0.0</td>\n",
       "      <td>12</td>\n",
       "      <td>29</td>\n",
       "      <td>34</td>\n",
       "    </tr>\n",
       "    <tr>\n",
       "      <th>2</th>\n",
       "      <td>CR_196089</td>\n",
       "      <td>27-JAN-18</td>\n",
       "      <td>0</td>\n",
       "      <td>34</td>\n",
       "      <td>33</td>\n",
       "      <td>3</td>\n",
       "      <td>5</td>\n",
       "      <td>2</td>\n",
       "      <td>7</td>\n",
       "      <td>3</td>\n",
       "      <td>0</td>\n",
       "      <td>1</td>\n",
       "      <td>316</td>\n",
       "      <td>1.0</td>\n",
       "      <td>72</td>\n",
       "      <td>0</td>\n",
       "      <td>34</td>\n",
       "    </tr>\n",
       "    <tr>\n",
       "      <th>3</th>\n",
       "      <td>CR_112195</td>\n",
       "      <td>18-AUG-06</td>\n",
       "      <td>7</td>\n",
       "      <td>3</td>\n",
       "      <td>2</td>\n",
       "      <td>3</td>\n",
       "      <td>5</td>\n",
       "      <td>9</td>\n",
       "      <td>8</td>\n",
       "      <td>0</td>\n",
       "      <td>5</td>\n",
       "      <td>1</td>\n",
       "      <td>174</td>\n",
       "      <td>1.0</td>\n",
       "      <td>112</td>\n",
       "      <td>87</td>\n",
       "      <td>34</td>\n",
       "    </tr>\n",
       "    <tr>\n",
       "      <th>4</th>\n",
       "      <td>CR_149832</td>\n",
       "      <td>31-OCT-11</td>\n",
       "      <td>0</td>\n",
       "      <td>7</td>\n",
       "      <td>8</td>\n",
       "      <td>7</td>\n",
       "      <td>3</td>\n",
       "      <td>2</td>\n",
       "      <td>7</td>\n",
       "      <td>1</td>\n",
       "      <td>5</td>\n",
       "      <td>1</td>\n",
       "      <td>174</td>\n",
       "      <td>0.0</td>\n",
       "      <td>112</td>\n",
       "      <td>93</td>\n",
       "      <td>43</td>\n",
       "    </tr>\n",
       "  </tbody>\n",
       "</table>\n",
       "</div>"
      ],
      "text/plain": [
       "  INCIDENT_ID       DATE  X_1  X_2  X_3  X_4  X_5  X_6  X_7  X_8  X_9  X_10  \\\n",
       "0   CR_195453  01-FEB-18    0   30   35    7    3    6    4    0    5     1   \n",
       "1   CR_103520  05-MAR-04    0   44   44    1    3    7    1    4    6     1   \n",
       "2   CR_196089  27-JAN-18    0   34   33    3    5    2    7    3    0     1   \n",
       "3   CR_112195  18-AUG-06    7    3    2    3    5    9    8    0    5     1   \n",
       "4   CR_149832  31-OCT-11    0    7    8    7    3    2    7    1    5     1   \n",
       "\n",
       "   X_11  X_12  X_13  X_14  X_15  \n",
       "0   174   NaN    72   119    23  \n",
       "1   316   0.0    12    29    34  \n",
       "2   316   1.0    72     0    34  \n",
       "3   174   1.0   112    87    34  \n",
       "4   174   0.0   112    93    43  "
      ]
     },
     "execution_count": 499,
     "metadata": {},
     "output_type": "execute_result"
    }
   ],
   "source": [
    "test.head(5)"
   ]
  },
  {
   "cell_type": "code",
   "execution_count": 500,
   "metadata": {},
   "outputs": [
    {
     "data": {
      "text/plain": [
       "(15903, 17)"
      ]
     },
     "execution_count": 500,
     "metadata": {},
     "output_type": "execute_result"
    }
   ],
   "source": [
    "test.shape"
   ]
  },
  {
   "cell_type": "code",
   "execution_count": 501,
   "metadata": {},
   "outputs": [
    {
     "data": {
      "text/plain": [
       "Index(['X_1', 'X_10', 'X_11', 'X_12', 'X_13', 'X_14', 'X_15', 'X_2', 'X_3',\n",
       "       'X_4', 'X_5', 'X_6', 'X_7', 'X_8', 'X_9'],\n",
       "      dtype='object')"
      ]
     },
     "execution_count": 501,
     "metadata": {},
     "output_type": "execute_result"
    }
   ],
   "source": [
    "X_train.columns"
   ]
  },
  {
   "cell_type": "code",
   "execution_count": 502,
   "metadata": {},
   "outputs": [],
   "source": [
    "df = pd.DataFrame(test,columns=['X_1', 'X_10', 'X_11', 'X_12', 'X_13', 'X_14', 'X_15', 'X_2', 'X_3',\n",
    "       'X_4', 'X_5', 'X_6', 'X_7', 'X_8', 'X_9'])"
   ]
  },
  {
   "cell_type": "code",
   "execution_count": 503,
   "metadata": {},
   "outputs": [
    {
     "data": {
      "text/plain": [
       "(15903, 15)"
      ]
     },
     "execution_count": 503,
     "metadata": {},
     "output_type": "execute_result"
    }
   ],
   "source": [
    "df.shape"
   ]
  },
  {
   "cell_type": "markdown",
   "metadata": {},
   "source": [
    "### checking null values"
   ]
  },
  {
   "cell_type": "code",
   "execution_count": 504,
   "metadata": {},
   "outputs": [
    {
     "data": {
      "text/plain": [
       "X_1       0\n",
       "X_10      0\n",
       "X_11      0\n",
       "X_12    127\n",
       "X_13      0\n",
       "X_14      0\n",
       "X_15      0\n",
       "X_2       0\n",
       "X_3       0\n",
       "X_4       0\n",
       "X_5       0\n",
       "X_6       0\n",
       "X_7       0\n",
       "X_8       0\n",
       "X_9       0\n",
       "dtype: int64"
      ]
     },
     "execution_count": 504,
     "metadata": {},
     "output_type": "execute_result"
    }
   ],
   "source": [
    "df.isnull().sum()"
   ]
  },
  {
   "cell_type": "markdown",
   "metadata": {},
   "source": [
    "### As INCIDENT_ID','DATE are not useful for our analysis i am droping them"
   ]
  },
  {
   "cell_type": "code",
   "execution_count": 505,
   "metadata": {},
   "outputs": [],
   "source": [
    "#test.drop(['INCIDENT_ID','DATE'], axis=1, inplace=True)"
   ]
  },
  {
   "cell_type": "code",
   "execution_count": 506,
   "metadata": {},
   "outputs": [],
   "source": [
    "#test.shape"
   ]
  },
  {
   "cell_type": "markdown",
   "metadata": {},
   "source": [
    "### The column X_12 is having the null values.I am replacing the null values with the median value "
   ]
  },
  {
   "cell_type": "code",
   "execution_count": 507,
   "metadata": {},
   "outputs": [],
   "source": [
    "df['X_12'].fillna(df['X_12'].median(), inplace=True)"
   ]
  },
  {
   "cell_type": "code",
   "execution_count": 508,
   "metadata": {},
   "outputs": [
    {
     "data": {
      "text/plain": [
       "X_1     0\n",
       "X_10    0\n",
       "X_11    0\n",
       "X_12    0\n",
       "X_13    0\n",
       "X_14    0\n",
       "X_15    0\n",
       "X_2     0\n",
       "X_3     0\n",
       "X_4     0\n",
       "X_5     0\n",
       "X_6     0\n",
       "X_7     0\n",
       "X_8     0\n",
       "X_9     0\n",
       "dtype: int64"
      ]
     },
     "execution_count": 508,
     "metadata": {},
     "output_type": "execute_result"
    }
   ],
   "source": [
    "df.isnull().sum()"
   ]
  },
  {
   "cell_type": "code",
   "execution_count": 509,
   "metadata": {},
   "outputs": [],
   "source": [
    "y_pred_df = classifier1.predict(df)"
   ]
  },
  {
   "cell_type": "code",
   "execution_count": 510,
   "metadata": {},
   "outputs": [
    {
     "name": "stdout",
     "output_type": "stream",
     "text": [
      "(15903,)\n"
     ]
    }
   ],
   "source": [
    "print(y_pred_df.shape)"
   ]
  },
  {
   "cell_type": "code",
   "execution_count": 511,
   "metadata": {},
   "outputs": [],
   "source": [
    "df['MULTIPLE_OFFENSE'] = y_pred_df"
   ]
  },
  {
   "cell_type": "code",
   "execution_count": 512,
   "metadata": {},
   "outputs": [],
   "source": [
    "#df.shape"
   ]
  },
  {
   "cell_type": "code",
   "execution_count": 513,
   "metadata": {},
   "outputs": [],
   "source": [
    "#test.columns"
   ]
  },
  {
   "cell_type": "code",
   "execution_count": 514,
   "metadata": {},
   "outputs": [],
   "source": [
    "## Creating submission file"
   ]
  },
  {
   "cell_type": "code",
   "execution_count": 515,
   "metadata": {},
   "outputs": [],
   "source": [
    "submission = pd.DataFrame(test, columns = ['INCIDENT_ID'])"
   ]
  },
  {
   "cell_type": "code",
   "execution_count": 516,
   "metadata": {},
   "outputs": [],
   "source": [
    "submission['MULTIPLE_OFFENSE'] = y_pred_df"
   ]
  },
  {
   "cell_type": "code",
   "execution_count": 517,
   "metadata": {},
   "outputs": [
    {
     "data": {
      "text/html": [
       "<div>\n",
       "<style scoped>\n",
       "    .dataframe tbody tr th:only-of-type {\n",
       "        vertical-align: middle;\n",
       "    }\n",
       "\n",
       "    .dataframe tbody tr th {\n",
       "        vertical-align: top;\n",
       "    }\n",
       "\n",
       "    .dataframe thead th {\n",
       "        text-align: right;\n",
       "    }\n",
       "</style>\n",
       "<table border=\"1\" class=\"dataframe\">\n",
       "  <thead>\n",
       "    <tr style=\"text-align: right;\">\n",
       "      <th></th>\n",
       "      <th>INCIDENT_ID</th>\n",
       "      <th>MULTIPLE_OFFENSE</th>\n",
       "    </tr>\n",
       "  </thead>\n",
       "  <tbody>\n",
       "    <tr>\n",
       "      <th>0</th>\n",
       "      <td>CR_195453</td>\n",
       "      <td>1</td>\n",
       "    </tr>\n",
       "    <tr>\n",
       "      <th>1</th>\n",
       "      <td>CR_103520</td>\n",
       "      <td>1</td>\n",
       "    </tr>\n",
       "    <tr>\n",
       "      <th>2</th>\n",
       "      <td>CR_196089</td>\n",
       "      <td>1</td>\n",
       "    </tr>\n",
       "    <tr>\n",
       "      <th>3</th>\n",
       "      <td>CR_112195</td>\n",
       "      <td>1</td>\n",
       "    </tr>\n",
       "    <tr>\n",
       "      <th>4</th>\n",
       "      <td>CR_149832</td>\n",
       "      <td>1</td>\n",
       "    </tr>\n",
       "  </tbody>\n",
       "</table>\n",
       "</div>"
      ],
      "text/plain": [
       "  INCIDENT_ID  MULTIPLE_OFFENSE\n",
       "0   CR_195453                 1\n",
       "1   CR_103520                 1\n",
       "2   CR_196089                 1\n",
       "3   CR_112195                 1\n",
       "4   CR_149832                 1"
      ]
     },
     "execution_count": 517,
     "metadata": {},
     "output_type": "execute_result"
    }
   ],
   "source": [
    "submission.head(5)"
   ]
  },
  {
   "cell_type": "code",
   "execution_count": 518,
   "metadata": {},
   "outputs": [],
   "source": [
    "submission.to_csv('submission_file.csv',index=False)"
   ]
  },
  {
   "cell_type": "code",
   "execution_count": null,
   "metadata": {},
   "outputs": [],
   "source": []
  },
  {
   "cell_type": "code",
   "execution_count": null,
   "metadata": {},
   "outputs": [],
   "source": []
  }
 ],
 "metadata": {
  "kernelspec": {
   "display_name": "Python 3",
   "language": "python",
   "name": "python3"
  },
  "language_info": {
   "codemirror_mode": {
    "name": "ipython",
    "version": 3
   },
   "file_extension": ".py",
   "mimetype": "text/x-python",
   "name": "python",
   "nbconvert_exporter": "python",
   "pygments_lexer": "ipython3",
   "version": "3.7.3"
  }
 },
 "nbformat": 4,
 "nbformat_minor": 2
}
